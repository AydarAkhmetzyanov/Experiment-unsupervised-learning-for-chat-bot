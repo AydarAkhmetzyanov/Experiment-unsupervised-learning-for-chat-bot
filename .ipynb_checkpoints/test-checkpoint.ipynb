{
 "cells": [
  {
   "cell_type": "code",
   "execution_count": 6,
   "metadata": {},
   "outputs": [],
   "source": []
  },
  {
   "cell_type": "code",
   "execution_count": 8,
   "metadata": {},
   "outputs": [
    {
     "ename": "NameError",
     "evalue": "name 'lda' is not defined",
     "output_type": "error",
     "traceback": [
      "\u001b[0;31m---------------------------------------------------------------------------\u001b[0m",
      "\u001b[0;31mNameError\u001b[0m                                 Traceback (most recent call last)",
      "\u001b[0;32m<ipython-input-8-80cc94aa3ac5>\u001b[0m in \u001b[0;36m<module>\u001b[0;34m()\u001b[0m\n\u001b[1;32m     28\u001b[0m \u001b[0;34m\u001b[0m\u001b[0m\n\u001b[1;32m     29\u001b[0m \u001b[0;31m#\"  вы можете, использовать кредитую карту visa/mastercard cre..\u001b[0m\u001b[0;34m\u001b[0m\u001b[0;34m\u001b[0m\u001b[0m\n\u001b[0;32m---> 30\u001b[0;31m \u001b[0mprint\u001b[0m\u001b[0;34m(\u001b[0m\u001b[0mutterance_to_result\u001b[0m\u001b[0;34m(\u001b[0m\u001b[0;34m\"кредитная карта моментум. ею можно расплачиваться в зарубежных интернет магазинах?\"\u001b[0m\u001b[0;34m)\u001b[0m\u001b[0;34m)\u001b[0m\u001b[0;34m\u001b[0m\u001b[0m\n\u001b[0m",
      "\u001b[0;32m<ipython-input-8-80cc94aa3ac5>\u001b[0m in \u001b[0;36mutterance_to_result\u001b[0;34m(utterance)\u001b[0m\n\u001b[1;32m      8\u001b[0m         \u001b[0mdfr\u001b[0m \u001b[0;34m=\u001b[0m \u001b[0mpd\u001b[0m\u001b[0;34m.\u001b[0m\u001b[0mread_csv\u001b[0m\u001b[0;34m(\u001b[0m\u001b[0;34m'vk.csv'\u001b[0m\u001b[0;34m)\u001b[0m\u001b[0;34m\u001b[0m\u001b[0m\n\u001b[1;32m      9\u001b[0m \u001b[0;34m\u001b[0m\u001b[0m\n\u001b[0;32m---> 10\u001b[0;31m         \u001b[0mvec_lda\u001b[0m \u001b[0;34m=\u001b[0m \u001b[0mlda\u001b[0m\u001b[0;34m[\u001b[0m\u001b[0mutterance_to_bow\u001b[0m\u001b[0;34m(\u001b[0m\u001b[0mutterance\u001b[0m\u001b[0;34m)\u001b[0m\u001b[0;34m]\u001b[0m\u001b[0;34m\u001b[0m\u001b[0m\n\u001b[0m\u001b[1;32m     11\u001b[0m \u001b[0;34m\u001b[0m\u001b[0m\n\u001b[1;32m     12\u001b[0m         \u001b[0mprint\u001b[0m\u001b[0;34m(\u001b[0m\u001b[0mvec_lda\u001b[0m\u001b[0;34m)\u001b[0m\u001b[0;34m\u001b[0m\u001b[0m\n",
      "\u001b[0;31mNameError\u001b[0m: name 'lda' is not defined"
     ]
    }
   ],
   "source": [
    "from nlu_core import utterance_to_result\n",
    "#\"  вы можете, использовать кредитую карту visa/mastercard cre..\n",
    "print(utterance_to_result(\"кредитная карта моментум. ею можно расплачиваться в зарубежных интернет магазинах?\"))\n"
   ]
  },
  {
   "cell_type": "code",
   "execution_count": 2,
   "metadata": {},
   "outputs": [
    {
     "name": "stdout",
     "output_type": "stream",
     "text": [
      "[(0, 0.16409646614871881), (17, 0.12583542244963522), (78, 0.17001162574886902), (143, 0.41838981898577621)]\n",
      "Nearest clusters:\n",
      "0 0.16409646614917 0.1258354224578 0.170011625749143 0.418389818986\n",
      "Top answers:\n",
      "\n",
      "[(0, 0.20329152796756003), (78, 0.16157787344872068), (143, 0.5262417096948292)]\n",
      "Nearest clusters:\n",
      "0 0.20329152796878 0.161577873449143 0.526241709695\n",
      "Top answers:\n",
      "\n"
     ]
    }
   ],
   "source": [
    "#test\n",
    "print(utterance_to_result(\"можно ли расплатиться кредитной картой моментумом в заграничных интернет магазинах\"))\n",
    "#test\n",
    "print(utterance_to_result(\"мне нужно оплатить покупку в интернет магазине кредитной картой моментум\"))"
   ]
  },
  {
   "cell_type": "code",
   "execution_count": 3,
   "metadata": {},
   "outputs": [
    {
     "name": "stdout",
     "output_type": "stream",
     "text": [
      "[(46, 0.18992670350896515), (53, 0.15239344552536715), (79, 0.31820504644044972), (93, 0.11845639770600982), (98, 0.1136109994118038)]\n",
      "Nearest clusters:\n",
      "46 0.18992670350953 0.15239344552579 0.3182050464493 0.11845639770698 0.113610999412\n",
      "Top answers:\n",
      "\n",
      "[(46, 0.17890657493896134), (53, 0.23829803742630679), (79, 0.32449749895297009), (98, 0.1366312220150937)]\n",
      "Nearest clusters:\n",
      "46 0.17890657493953 0.23829803742679 0.32449749895398 0.136631222015\n",
      "Top answers:\n",
      "\n"
     ]
    }
   ],
   "source": [
    "#ля получения информации о лимите доступных средств по \n",
    "print(utterance_to_result(\"здоавствуйте, у меня подключен мобильный банк. как можно не выходя из дома проверить остаток на карточке?\"))\n",
    "\n",
    "#test\n",
    "print(utterance_to_result(\"могу ли я через мобильный банк проверить остаток карты из дома\"))\n"
   ]
  },
  {
   "cell_type": "code",
   "execution_count": 4,
   "metadata": {},
   "outputs": [
    {
     "name": "stdout",
     "output_type": "stream",
     "text": [
      "[(6, 0.19560076098438584), (24, 0.068186293770711684), (33, 0.10168238560477935), (40, 0.070010112306967243), (61, 0.087930324256613443), (93, 0.24301970211503648), (120, 0.064324858670568225), (144, 0.11007889562427424)]\n",
      "Nearest clusters:\n",
      "6 0.19560076098424 0.068186293770733 0.10168238560540 0.07001011230761 0.087930324256693 0.243019702115120 0.0643248586706144 0.110078895624\n",
      "Top answers:\n",
      "\n",
      "[(6, 0.2518501163246129), (93, 0.25148321700406334), (127, 0.25166666666666654)]\n",
      "Nearest clusters:\n",
      "6 0.25185011632593 0.251483217004127 0.251666666667\n",
      "Top answers:\n",
      "\n"
     ]
    }
   ],
   "source": [
    "# вадим, в случае утраты карты во избежание ф\n",
    "print(utterance_to_result(\"что делать если потерял карточку????  я потерял карточку правда на ней денег  уже не было,  но она мне все равно нужна чтобы потом деньги на неё класть, как её востановить? прийти в банк, и что дальше?\"))\n",
    "#test\n",
    "print(utterance_to_result(\"я потерял карточку как ее восстановить\"))"
   ]
  },
  {
   "cell_type": "code",
   "execution_count": 5,
   "metadata": {},
   "outputs": [
    {
     "name": "stdout",
     "output_type": "stream",
     "text": [
      "[(38, 0.1830485921471714), (57, 0.67599902690044589)]\n",
      "Nearest clusters:\n",
      "38 0.18304859214757 0.6759990269\n",
      "Top answers:\n",
      "\n",
      "[(57, 0.47971710998470468), (76, 0.18222093797868347), (85, 0.11185185185185229), (93, 0.11806195203661494)]\n",
      "Nearest clusters:\n",
      "57 0.47971710998576 0.18222093797985 0.11185185185293 0.118061952037\n",
      "Top answers:\n",
      "\n"
     ]
    }
   ],
   "source": [
    "#если вам было отказано в получении кредита в нашем банке, то повторно подать за\n",
    "print(utterance_to_result(\"через какое время можно подать повторную заявку на кредит ?\"))\n",
    "#test\n",
    "print(utterance_to_result(\"я подала заявку на кредит наличными мне отказали когда я смогу подать новую\"))"
   ]
  },
  {
   "cell_type": "code",
   "execution_count": null,
   "metadata": {
    "collapsed": true
   },
   "outputs": [],
   "source": []
  }
 ],
 "metadata": {
  "kernelspec": {
   "display_name": "Python 3",
   "language": "python",
   "name": "python3"
  },
  "language_info": {
   "codemirror_mode": {
    "name": "ipython",
    "version": 3
   },
   "file_extension": ".py",
   "mimetype": "text/x-python",
   "name": "python",
   "nbconvert_exporter": "python",
   "pygments_lexer": "ipython3",
   "version": "3.6.2"
  }
 },
 "nbformat": 4,
 "nbformat_minor": 2
}
